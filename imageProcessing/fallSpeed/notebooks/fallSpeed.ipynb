{
  "nbformat": 4,
  "nbformat_minor": 0,
  "metadata": {
    "colab": {
      "name": "fallSpeed.ipynb",
      "provenance": [],
      "collapsed_sections": [],
      "authorship_tag": "ABX9TyPg9i2NhqKZ4mgZCEY567vZ",
      "include_colab_link": true
    },
    "kernelspec": {
      "name": "python3",
      "display_name": "Python 3"
    },
    "language_info": {
      "name": "python"
    }
  },
  "cells": [
    {
      "cell_type": "markdown",
      "metadata": {
        "id": "view-in-github",
        "colab_type": "text"
      },
      "source": [
        "<a href=\"https://colab.research.google.com/github/Isaac-Jacobson/snow/blob/main/fallSpeed.ipynb\" target=\"_parent\"><img src=\"https://colab.research.google.com/assets/colab-badge.svg\" alt=\"Open In Colab\"/></a>"
      ]
    },
    {
      "cell_type": "code",
      "execution_count": null,
      "metadata": {
        "id": "inq79KTj3NEG"
      },
      "outputs": [],
      "source": [
        "import cv2\n",
        "from cv2 import threshold\n",
        "import numpy as np\n",
        "import pandas as pd\n",
        "import matplotlib\n",
        "import matplotlib.pyplot as plt \n",
        "from skimage import measure\n",
        "import math\n",
        "import scipy\n",
        "from google.colab.patches import cv2_imshow\n",
        "from cv2 import HoughLines"
      ]
    },
    {
      "cell_type": "code",
      "source": [
        "bg1 = cv2.imread('bg_1.bmp')\n",
        "bg2 = cv2.imread('bg_2.bmp')\n",
        "flake1 = cv2.imread('flake1_1.bmp')\n",
        "flake2 = cv2.imread('flake1_2.bmp')"
      ],
      "metadata": {
        "id": "RLQDEKsZ3RBz"
      },
      "execution_count": null,
      "outputs": []
    },
    {
      "cell_type": "code",
      "source": [
        "cv2_imshow(bg1)\n",
        "cv2_imshow(bg2)\n",
        "cv2_imshow(flake1)\n",
        "cv2_imshow(flake2)\n",
        "#cv2.imshow(bg1)\n",
        "#cv2.imshow(bg2)\n",
        "#cv2.imshow(flake1)\n",
        "#cv2.imshow(flake2)"
      ],
      "metadata": {
        "id": "wF09JAC93Q_V"
      },
      "execution_count": null,
      "outputs": []
    },
    {
      "cell_type": "code",
      "source": [
        "img1 = cv2.subtract(flake1, bg1)\n",
        "img2 = cv2.subtract(flake2, bg2)\n",
        "\n",
        "#Thresholds\n",
        "ret1, binImg1 = threshold(img1, 133, 255, cv2.THRESH_BINARY)\n",
        "ret2, binImg2 = threshold(img2, 33, 255, cv2.THRESH_BINARY)\n",
        "\n",
        "#Thresholds\n",
        "blur1 = cv2.GaussianBlur(binImg1,(19,19),0)\n",
        "img1 = cv2.threshold(blur1, 100, 255, cv2.THRESH_BINARY)[1]\n",
        "blur2 = cv2.GaussianBlur(binImg2,(19,19),0)\n",
        "img2 = cv2.threshold(blur2, 100, 255, cv2.THRESH_BINARY)[1]"
      ],
      "metadata": {
        "id": "JG9EBEdK3Q8m"
      },
      "execution_count": null,
      "outputs": []
    },
    {
      "cell_type": "code",
      "source": [
        "cv2_imshow(img1)\n",
        "cv2_imshow(img2)\n",
        "#cv2.imshow(img1)\n",
        "#cv2.imshow(img2)"
      ],
      "metadata": {
        "id": "qj4GVjwY3Q57"
      },
      "execution_count": null,
      "outputs": []
    },
    {
      "cell_type": "code",
      "source": [
        "props = measure.regionprops(img1)\n",
        "areas = [0]*len(props)\n",
        "centroids = [0]*len(props)\n",
        "for i in range(0, len(props)):\n",
        "  areas[i] = props[i].area\n",
        "  centroids[i] = props[i].centroid[1:2]\n",
        "radius = math.sqrt(sum(areas) / math.pi)"
      ],
      "metadata": {
        "id": "DYPD9IhV-TkI"
      },
      "execution_count": null,
      "outputs": []
    },
    {
      "cell_type": "code",
      "source": [
        "edges = img1 - scipy.ndimage.morphology.binary_dilation(img1)\n",
        "xsum = 0\n",
        "ysum = 0\n",
        "count = 0\n",
        "for x in range(1, 1200):\n",
        "    for y in range(1, 1920):\n",
        "        if(img1[x][y].any() == 1):\n",
        "            xsum = xsum+x;\n",
        "            ysum = ysum+y;\n",
        "            count = count+1;          \n",
        "y1 = round(xsum/count);\n",
        "x1 = round(ysum/count);\n"
      ],
      "metadata": {
        "id": "sBs1br80-Th0"
      },
      "execution_count": null,
      "outputs": []
    },
    {
      "cell_type": "code",
      "source": [
        "plt.imshow(edges); \n",
        "plt.plot(x1,y1,'rx');"
      ],
      "metadata": {
        "id": "QhwyaMFd-Tfb"
      },
      "execution_count": null,
      "outputs": []
    },
    {
      "cell_type": "code",
      "source": [
        "edges2 = img1 - scipy.ndimage.morphology.binary_dilation(img1)"
      ],
      "metadata": {
        "id": "g-OP6LJc-TaO"
      },
      "execution_count": null,
      "outputs": []
    },
    {
      "cell_type": "code",
      "source": [
        "max_len = 0\n",
        "sum1x = 0\n",
        "sum1y = 0\n",
        "sum2x = 0\n",
        "sum2y = 0"
      ],
      "metadata": {
        "id": "girVqX8a09i3"
      },
      "execution_count": null,
      "outputs": []
    },
    {
      "cell_type": "code",
      "source": [
        "#Thresholds\n",
        "edgesCanny = cv2.Canny(img2, 10, 200, 3)\n",
        "lines = cv2.HoughLines(edgesCanny, 1, np.pi/180, 100, None, 0, 0)\n",
        "for rho,theta in lines[0]:\n",
        "    a = np.cos(theta)\n",
        "    b = np.sin(theta)\n",
        "    x0 = a*rho\n",
        "    y0 = b*rho\n",
        "    x1 = int(x0 + 1000*(-b))\n",
        "    y1 = int(y0 + 1000*(a))\n",
        "    x2 = int(x0 - 1000*(-b))\n",
        "    y2 = int(y0 - 1000*(a))\n",
        "    sum1x += x1\n",
        "    sum1y += y1\n",
        "    sum2x += x2\n",
        "    sum2y += y2\n",
        "    cv2.line(img2,(x1,y1),(x2,y2),(0,0,255),2)\n",
        "cv2_imshow(img2)\n",
        "#cv2.imshow(img2)"
      ],
      "metadata": {
        "id": "kQECW5NQ-TXv"
      },
      "execution_count": null,
      "outputs": []
    },
    {
      "cell_type": "code",
      "source": [
        "avg1x = round(sum1x/len(lines));\n",
        "avg1y = round(sum1y/len(lines));\n",
        "avg2x =  round(sum2x/len(lines));\n",
        "avg2y =  round(sum2y/len(lines));"
      ],
      "metadata": {
        "id": "D746Swrb-hvf"
      },
      "execution_count": null,
      "outputs": []
    },
    {
      "cell_type": "code",
      "source": [
        "d2 = avg2y - avg1y;\n",
        "dx2 = avg2x - avg1x;\n",
        "angle2 = math.atan(d2/dx2);"
      ],
      "metadata": {
        "id": "XHj3bKtE-hs0"
      },
      "execution_count": null,
      "outputs": []
    },
    {
      "cell_type": "code",
      "source": [
        "ry = radius*math.sin(angle2);\n",
        "rx = radius*math.cos(angle2);\n",
        "\n",
        "avg1x = avg1x+rx;\n",
        "avg1y = avg1y+ry;\n",
        "\n",
        "avg2x = avg2x-rx;\n",
        "avg2y = avg2y-ry;"
      ],
      "metadata": {
        "id": "PgET9_Pd-hph"
      },
      "execution_count": null,
      "outputs": []
    },
    {
      "cell_type": "code",
      "source": [
        "zz = [(avg1x, avg1y),(avg2x, avg2y)];\n",
        "d1 = avg1y - y1\n",
        "dx1 = avg1x - x1;"
      ],
      "metadata": {
        "id": "gVIfH8Rh-hmV"
      },
      "execution_count": null,
      "outputs": []
    },
    {
      "cell_type": "code",
      "source": [
        "angle1 = math.atan(d1/dx1)\n",
        "d2 = avg2y - avg1y\n",
        "dx2 = avg2x - avg1x\n",
        "speed1 = d1/0.027\n",
        "speed2 = d2/0.021\n",
        "\n",
        "print(\"Speed1 : \" + str(abs(speed1)))\n",
        "#print(\"Speed2 : \" + str(abs(speed2)))"
      ],
      "metadata": {
        "id": "YeJZUfFt-hi5",
        "colab": {
          "base_uri": "https://localhost:8080/"
        },
        "outputId": "0f9886c5-67de-410a-9d93-3d1cce2a8206"
      },
      "execution_count": null,
      "outputs": [
        {
          "output_type": "stream",
          "name": "stdout",
          "text": [
            "Speed1 : 32408.01344882682\n"
          ]
        }
      ]
    }
  ]
}
