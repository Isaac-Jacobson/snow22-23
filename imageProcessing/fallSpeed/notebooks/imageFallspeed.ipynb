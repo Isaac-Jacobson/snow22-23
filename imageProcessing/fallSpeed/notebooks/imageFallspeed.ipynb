{
  "nbformat": 4,
  "nbformat_minor": 0,
  "metadata": {
    "colab": {
      "name": "imageFallspeed",
      "provenance": [],
      "collapsed_sections": [
        "O1WI_5dyH0sh",
        "4gyHPpz4S6KL",
        "pCRmZqLOYia6"
      ],
      "authorship_tag": "ABX9TyOceq9acooJdWndb5lQRHXd",
      "include_colab_link": true
    },
    "kernelspec": {
      "name": "python3",
      "display_name": "Python 3"
    },
    "language_info": {
      "name": "python"
    }
  },
  "cells": [
    {
      "cell_type": "markdown",
      "metadata": {
        "id": "view-in-github",
        "colab_type": "text"
      },
      "source": [
        "<a href=\"https://colab.research.google.com/github/Isaac-Jacobson/snow/blob/main/imageFallspeed.ipynb\" target=\"_parent\"><img src=\"https://colab.research.google.com/assets/colab-badge.svg\" alt=\"Open In Colab\"/></a>"
      ]
    },
    {
      "cell_type": "markdown",
      "source": [
        "#Calculate the fall speed from a series of images\n",
        "Written to find the fallspeed from series of 7 images taken from video of fall speed test rig where 15cm = 780pixels\n"
      ],
      "metadata": {
        "id": "wWG65NRKFZ4Y"
      }
    },
    {
      "cell_type": "markdown",
      "source": [
        "#Setup\n"
      ],
      "metadata": {
        "id": "1ygneP7RHZB9"
      }
    },
    {
      "cell_type": "code",
      "execution_count": null,
      "metadata": {
        "id": "okZNfPhyFWi5"
      },
      "outputs": [],
      "source": [
        "import cv2\n",
        "from google.colab.patches import cv2_imshow\n",
        "import os\n",
        "\n",
        "!mkdir C0001Frames\n",
        "!mkdir C0004Frames\n",
        "!mkdir C0007Frames\n",
        "!mkdir C0008Frames"
      ]
    },
    {
      "cell_type": "code",
      "source": [
        "!mv /content/*.png C0008Frames"
      ],
      "metadata": {
        "id": "b30mC74DOo4z"
      },
      "execution_count": null,
      "outputs": []
    },
    {
      "cell_type": "code",
      "source": [
        "cap = cv2.VideoCapture(\"C0001.mp4\")\n",
        "output = cv2.VideoWriter(\"output.mp4\", cv2.VideoWriter_fourcc(*'MPEG'), 240, (1920, 1080))"
      ],
      "metadata": {
        "id": "7pYjvLEOS8z0"
      },
      "execution_count": null,
      "outputs": []
    },
    {
      "cell_type": "code",
      "source": [
        "def videoToFrames(videoPath, outputFolder=\"/content\"):\n",
        "  capture = cv2.VideoCapture(videoPath)\n",
        "  output = cv2.VideoWriter(outputFolder,cv2.VideoWriter_fourcc(*’MP4’),240,(1920,1080))\n",
        "  capture = cv2.VideoCapture(videoPath)\n",
        "\n",
        "  frameNum = 0\n",
        "  while(True):\n",
        "    success, frame = capture.read()\n",
        "    if success:\n",
        "      path = outputFolder + \"//000\" + str(frameNum) + \".png\"\n",
        "      cv2.imwrite(path, frame)\n",
        "    else:\n",
        "      break\n",
        "    frameNum += 1\n",
        "  capture.release()"
      ],
      "metadata": {
        "id": "y3KBOr8Hrh_-"
      },
      "execution_count": null,
      "outputs": []
    },
    {
      "cell_type": "code",
      "source": [
        "videoToFrames(\"/content/C0001.MP4\", \"/content/C0001Frames\")\n",
        "videoToFrames(\"/content/C000.MP4\", \"/content/C0001Frames\")\n",
        "videoToFrames(\"/content/C0001.MP4\", \"/content/C0001Frames\")\n",
        "videoToFrames(\"/content/C0001.MP4\", \"/content/C0001Frames\")"
      ],
      "metadata": {
        "id": "Jh2-scOHs22x"
      },
      "execution_count": null,
      "outputs": []
    },
    {
      "cell_type": "markdown",
      "source": [
        "#Locate the \"snowflake\""
      ],
      "metadata": {
        "id": "O1WI_5dyH0sh"
      }
    },
    {
      "cell_type": "code",
      "source": [
        "def widestRow(arr):\n",
        "  width = 0\n",
        "  widestRow = 0\n",
        "  flag = False\n",
        "  cnt = 0\n",
        "  for i in range(0, len(arr)):\n",
        "    for j in range(0, len(arr[i])):\n",
        "      if(arr[i][j] >= 1):\n",
        "        flag = True\n",
        "        cnt += 1\n",
        "      else:\n",
        "        if(flag):\n",
        "          if(cnt > width):\n",
        "            widestRow = i\n",
        "            width = cnt\n",
        "        flag = False\n",
        "        cnt = 0\n",
        "  return widestRow"
      ],
      "metadata": {
        "id": "K8PloQ74QI96"
      },
      "execution_count": null,
      "outputs": []
    },
    {
      "cell_type": "code",
      "source": [
        "def getFlakeY(filename):\n",
        "  #Load the image\n",
        "  img = cv2.imread(filename, 0)\n",
        "\n",
        "  #Get rid of the bottom of the image (lots of glare and we don't need it)\n",
        "  for i in range(950, len(img)):\n",
        "    for j in range(0, len(img[i])):\n",
        "      img[i][j] = 0\n",
        "\n",
        "  #Get rid of the sides of the image (lots of glare and we don't need it)\n",
        "  for i in range(0, len(img)):\n",
        "    for j in range(280, len(img[i])):\n",
        "      img[i][j] = 0\n",
        "  for i in range(0, len(img)):\n",
        "    for j in range(0, 20):\n",
        "      img[i][j] = 0\n",
        "\n",
        "  ret,img2 = cv2.threshold(img,25,40,cv2.THRESH_BINARY)\n",
        "  return widestRow(img2)"
      ],
      "metadata": {
        "id": "O-tKDwIAKzIQ"
      },
      "execution_count": null,
      "outputs": []
    },
    {
      "cell_type": "markdown",
      "source": [
        "#Distance between flake across images"
      ],
      "metadata": {
        "id": "4gyHPpz4S6KL"
      }
    },
    {
      "cell_type": "code",
      "source": [
        "def getLocations(directory):\n",
        "  dir_list = os.listdir(directory)\n",
        "  locations = [0]*len(dir_list)\n",
        "  for file in dir_list:\n",
        "    locations[int(file[5])-1] = getFlakeY(directory + \"//\" + file)\n",
        "  return locations\n",
        "\n",
        "def getDistancesP(locations):\n",
        "  distances = [0]*(len(locations)-1)\n",
        "  for i in range(0, len(distances)):\n",
        "    distances[i] = locations[i+1] - locations[i]\n",
        "  return distances\n",
        "\n",
        "def getDistancesC(distancesP, pixelSize=0.01923):\n",
        "  distances = [0.0] * len(distancesP)\n",
        "  for i in range(0, len(distances)):\n",
        "    distances[i] = distancesP[i] * pixelSize\n",
        "  return distances\n",
        "\n",
        "def getSpeedsMS(distancesC, time=0.10):\n",
        "  speeds = [0.0] * len(distancesC)\n",
        "  for i in range(0, len(speeds)):\n",
        "    speeds[i] = (distancesC[i] / 100) * (1/time)\n",
        "  return speeds\n",
        "\n",
        "def average(speeds):\n",
        "  sum = 0\n",
        "  for i in speeds:\n",
        "    sum += i\n",
        "  return (sum / len(speeds))"
      ],
      "metadata": {
        "id": "gCcGQDmQKksJ"
      },
      "execution_count": null,
      "outputs": []
    },
    {
      "cell_type": "markdown",
      "source": [
        "#Do the thing"
      ],
      "metadata": {
        "id": "pCRmZqLOYia6"
      }
    },
    {
      "cell_type": "code",
      "source": [
        "def details(directory):\n",
        "  locations = getLocations(directory)\n",
        "  print(\"Location of flake (pixels): \" + str(locations))\n",
        "  distancesP = getDistancesP(locations)\n",
        "  print(\"Pixel distances between flakes: \" + str(distancesP))\n",
        "  distancesC = getDistancesC(distancesP)\n",
        "  print(\"cm distances between flakes: \" + str(distancesC))\n",
        "  speeds = getSpeedsMS(distancesC)\n",
        "  print(\"Speeds (m/s): \" + str(speeds))\n",
        "  averageSpeed = average(speeds)\n",
        "  print(\"Average speed of snowflake: \" + str(averageSpeed) + \" m/s\")\n",
        "  speedFt = averageSpeed * 3.28084\n",
        "  print(\"Average speed of snowflake: \" + str(speedFt) + \" ft/s\")\n",
        "  adjustedSpeed = speedFt * (260/60)\n",
        "  print(\"Speed adjusted by a factor of (240/60): \" + str(adjustedSpeed) + \" ft/s\")"
      ],
      "metadata": {
        "id": "yy6pt7v5YOgK"
      },
      "execution_count": null,
      "outputs": []
    },
    {
      "cell_type": "code",
      "source": [
        "details(\"/content/C0001Frames\")"
      ],
      "metadata": {
        "colab": {
          "base_uri": "https://localhost:8080/"
        },
        "id": "d5xdjzV1eYAV",
        "outputId": "4f447279-22d7-474f-fa9d-dab6eb7f7dcf"
      },
      "execution_count": null,
      "outputs": [
        {
          "output_type": "stream",
          "name": "stdout",
          "text": [
            "Location of flake (pixels): [77, 164, 247, 349, 436, 526, 607]\n",
            "Pixel distances between flakes: [87, 83, 102, 87, 90, 81]\n",
            "cm distances between flakes: [1.67301, 1.59609, 1.96146, 1.67301, 1.7307000000000001, 1.55763]\n",
            "Speeds (m/s): [0.167301, 0.159609, 0.196146, 0.167301, 0.17307000000000003, 0.155763]\n",
            "Average speed of snowflake: 0.16986500000000002 m/s\n",
            "Average speed of snowflake: 0.5572998866000001 ft/s\n",
            "Speed adjusted by a factor of (240/60): 2.4149661752666667 ft/s\n"
          ]
        }
      ]
    },
    {
      "cell_type": "code",
      "source": [
        "details(\"/content/C0004Frames\")"
      ],
      "metadata": {
        "colab": {
          "base_uri": "https://localhost:8080/"
        },
        "id": "1icDFRupegPB",
        "outputId": "ade831a5-0acf-4e19-ebbc-56d0287c4d33"
      },
      "execution_count": null,
      "outputs": [
        {
          "output_type": "stream",
          "name": "stdout",
          "text": [
            "Location of flake (pixels): [415, 453, 488, 528, 564, 595, 634]\n",
            "Pixel distances between flakes: [38, 35, 40, 36, 31, 39]\n",
            "cm distances between flakes: [0.7307400000000001, 0.67305, 0.7692, 0.69228, 0.59613, 0.74997]\n",
            "Speeds (m/s): [0.073074, 0.067305, 0.07692, 0.069228, 0.059613, 0.07499700000000001]\n",
            "Average speed of snowflake: 0.0701895 m/s\n",
            "Average speed of snowflake: 0.23028051918 ft/s\n",
            "Speed adjusted by a factor of (240/60): 0.99788224978 ft/s\n"
          ]
        }
      ]
    },
    {
      "cell_type": "code",
      "source": [
        "details(\"/content/C0007Frames\")"
      ],
      "metadata": {
        "colab": {
          "base_uri": "https://localhost:8080/"
        },
        "id": "-6lKJp4JegFM",
        "outputId": "a062f40e-f6c9-49d4-c732-c8a7f4f5d52a"
      },
      "execution_count": null,
      "outputs": [
        {
          "output_type": "stream",
          "name": "stdout",
          "text": [
            "Location of flake (pixels): [422, 484, 547, 611, 690, 756, 820]\n",
            "Pixel distances between flakes: [62, 63, 64, 79, 66, 64]\n",
            "cm distances between flakes: [1.19226, 1.21149, 1.23072, 1.5191700000000001, 1.26918, 1.23072]\n",
            "Speeds (m/s): [0.119226, 0.12114899999999999, 0.12307200000000001, 0.151917, 0.126918, 0.12307200000000001]\n",
            "Average speed of snowflake: 0.127559 m/s\n",
            "Average speed of snowflake: 0.41850066956000004 ft/s\n",
            "Speed adjusted by a factor of (240/60): 1.8135029014266668 ft/s\n"
          ]
        }
      ]
    },
    {
      "cell_type": "code",
      "source": [
        "details(\"/content/C0008Frames\")"
      ],
      "metadata": {
        "colab": {
          "base_uri": "https://localhost:8080/"
        },
        "id": "dfGYdezeef6J",
        "outputId": "4a24019a-3326-4e98-ada7-d7f481692108"
      },
      "execution_count": null,
      "outputs": [
        {
          "output_type": "stream",
          "name": "stdout",
          "text": [
            "Location of flake (pixels): [52, 150, 249, 348, 455, 560, 669]\n",
            "Pixel distances between flakes: [98, 99, 99, 107, 105, 109]\n",
            "cm distances between flakes: [1.88454, 1.90377, 1.90377, 2.05761, 2.0191500000000002, 2.09607]\n",
            "Speeds (m/s): [0.188454, 0.19037700000000002, 0.19037700000000002, 0.205761, 0.201915, 0.20960700000000002]\n",
            "Average speed of snowflake: 0.19774850000000002 m/s\n",
            "Average speed of snowflake: 0.64878118874 ft/s\n",
            "Speed adjusted by a factor of (240/60): 2.8113851512066663 ft/s\n"
          ]
        }
      ]
    }
  ]
}
