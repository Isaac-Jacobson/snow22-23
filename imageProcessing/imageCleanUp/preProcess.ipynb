{
 "cells": [
  {
   "cell_type": "code",
   "execution_count": 2,
   "id": "5e7fe90a",
   "metadata": {},
   "outputs": [],
   "source": [
    "import sys\n",
    "from xml.etree.ElementTree import tostring\n",
    "import numpy as np\n",
    "from PIL import Image, ImageFilter\n",
    "import cv2 as cv\n",
    "from copy import deepcopy\n",
    "import imutils"
   ]
  },
  {
   "cell_type": "code",
   "execution_count": 3,
   "id": "3b63ef96",
   "metadata": {},
   "outputs": [],
   "source": [
    "fg = \"./images/cam1/Flake000936_Cam1_1_2022-2-13-20-0-36-227.png\"\n",
    "bg = \"./images/cam1/Flake000932_Cam1_1_2022-2-13-20-0-6-196.png\"\n",
    "filename = fg\n",
    "#Load images as arrays\n",
    "fg=np.asarray(Image.open(fg))\n",
    "bg=np.asarray(Image.open(bg))\n",
    "cv.imshow('fg', fg)\n",
    "cv.imshow('bg', bg)"
   ]
  },
  {
   "cell_type": "code",
   "execution_count": null,
   "id": "8f749058",
   "metadata": {},
   "outputs": [],
   "source": []
  },
  {
   "cell_type": "code",
   "execution_count": null,
   "id": "c57c385d",
   "metadata": {},
   "outputs": [],
   "source": []
  },
  {
   "cell_type": "code",
   "execution_count": null,
   "id": "34fe048d",
   "metadata": {},
   "outputs": [],
   "source": []
  },
  {
   "cell_type": "code",
   "execution_count": null,
   "id": "f59258cf",
   "metadata": {},
   "outputs": [],
   "source": []
  },
  {
   "cell_type": "code",
   "execution_count": null,
   "id": "b59df71b",
   "metadata": {},
   "outputs": [],
   "source": []
  },
  {
   "cell_type": "code",
   "execution_count": null,
   "id": "92cc7a57",
   "metadata": {},
   "outputs": [],
   "source": []
  },
  {
   "cell_type": "code",
   "execution_count": null,
   "id": "ab54d96e",
   "metadata": {},
   "outputs": [],
   "source": []
  }
 ],
 "metadata": {
  "kernelspec": {
   "display_name": "Python 3 (ipykernel)",
   "language": "python",
   "name": "python3"
  },
  "language_info": {
   "codemirror_mode": {
    "name": "ipython",
    "version": 3
   },
   "file_extension": ".py",
   "mimetype": "text/x-python",
   "name": "python",
   "nbconvert_exporter": "python",
   "pygments_lexer": "ipython3",
   "version": "3.10.4"
  }
 },
 "nbformat": 4,
 "nbformat_minor": 5
}
